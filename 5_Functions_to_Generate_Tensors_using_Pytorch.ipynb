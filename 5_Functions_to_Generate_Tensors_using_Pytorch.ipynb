{
  "nbformat": 4,
  "nbformat_minor": 0,
  "metadata": {
    "kernelspec": {
      "display_name": "Python 3",
      "language": "python",
      "name": "python3"
    },
    "language_info": {
      "codemirror_mode": {
        "name": "ipython",
        "version": 3
      },
      "file_extension": ".py",
      "mimetype": "text/x-python",
      "name": "python",
      "nbconvert_exporter": "python",
      "pygments_lexer": "ipython3",
      "version": "3.8.5"
    },
    "colab": {
      "name": "5 Functions to Generate Tensors using Pytorch",
      "provenance": [],
      "collapsed_sections": [],
      "include_colab_link": true
    }
  },
  "cells": [
    {
      "cell_type": "markdown",
      "metadata": {
        "id": "view-in-github",
        "colab_type": "text"
      },
      "source": [
        "<a href=\"https://colab.research.google.com/github/Aira10/Basic1/blob/master/5_Functions_to_Generate_Tensors_using_Pytorch.ipynb\" target=\"_parent\"><img src=\"https://colab.research.google.com/assets/colab-badge.svg\" alt=\"Open In Colab\"/></a>"
      ]
    },
    {
      "cell_type": "code",
      "metadata": {
        "colab": {
          "base_uri": "https://localhost:8080/"
        },
        "id": "5aiq9GvtSFNU",
        "outputId": "1f968202-f537-4ee1-e656-7c61d821b81d"
      },
      "source": [
        "# Jovian Commit Essentials\n",
        "# Please retain and execute this cell without modifying the contents for `jovian.commit` to work\n",
        "!pip install jovian --upgrade -q\n",
        "import jovian\n",
        "jovian.utils.colab.set_colab_file_id('1YYonnc_Czk7yGJXHM6ypcB8GtNXj0oU9')"
      ],
      "execution_count": null,
      "outputs": [
        {
          "output_type": "stream",
          "text": [
            "\u001b[?25l\r\u001b[K     |█████                           | 10kB 17.5MB/s eta 0:00:01\r\u001b[K     |██████████                      | 20kB 13.2MB/s eta 0:00:01\r\u001b[K     |██████████████▉                 | 30kB 8.8MB/s eta 0:00:01\r\u001b[K     |███████████████████▉            | 40kB 7.7MB/s eta 0:00:01\r\u001b[K     |████████████████████████▉       | 51kB 4.3MB/s eta 0:00:01\r\u001b[K     |█████████████████████████████▊  | 61kB 5.0MB/s eta 0:00:01\r\u001b[K     |████████████████████████████████| 71kB 3.1MB/s \n",
            "\u001b[?25h  Building wheel for uuid (setup.py) ... \u001b[?25l\u001b[?25hdone\n"
          ],
          "name": "stdout"
        }
      ]
    },
    {
      "cell_type": "markdown",
      "metadata": {
        "id": "m49LWkgtSFNr"
      },
      "source": [
        "\n",
        "## **5 Functions to Generate Tensors using Pytorch**\n",
        "\n",
        "Pytorch is essentially an open source machine learning framework developed by Facebook's AI research group. Pytorch uses dynamic computation unlike other deep learning frameworks (e.g. TensorFlow), making it flexible and easier to develop complex models. The use of classes, structures and loops make it easier to understand and use, compared to frameworks that use a different programming style. \n",
        "\n",
        "This notebook has compiled 5 tensor functions that can be used to create tensors. The first two functions are based on simple ideas of creating and arranging a tensor, whereas the following three functions generate mathematical equivalent forms of tensors- complex, heavyside step and polar.\n",
        "\n",
        "- function 1: empty\n",
        "- function 2: arrange\n",
        "- function 3: complex\n",
        "- function 4: heavyside step\n",
        "- function 5: polar\n",
        "\n",
        "Prerequisite: install and import PyTorch"
      ]
    },
    {
      "cell_type": "code",
      "metadata": {
        "id": "bJLUKJLXSFNt"
      },
      "source": [
        "# Uncomment and run the appropriate command for your operating system, if required\n",
        "\n",
        "# Linux / Binder\n",
        "# !pip install numpy torch==1.7.0+cpu torchvision==0.8.1+cpu torchaudio==0.7.0 -f https://download.pytorch.org/whl/torch_stable.html\n",
        "\n",
        "# Windows\n",
        "# !pip install numpy torch==1.7.0+cpu torchvision==0.8.1+cpu torchaudio==0.7.0 -f https://download.pytorch.org/whl/torch_stable.html\n",
        "\n",
        "# MacOS\n",
        "# !pip install numpy torch torchvision torchaudio"
      ],
      "execution_count": null,
      "outputs": []
    },
    {
      "cell_type": "code",
      "metadata": {
        "id": "XRftZaQxSFNu"
      },
      "source": [
        "# Import torch and other required modules\n",
        "import torch"
      ],
      "execution_count": null,
      "outputs": []
    },
    {
      "cell_type": "markdown",
      "metadata": {
        "id": "Ew2-CDneSFNu"
      },
      "source": [
        "## Function 1 - Empty function\n",
        "\n",
        "Returns a tensor filled with uninitialized data. The shape of the tensor is defined by the variable argument 'size'. 'Size' takes in the rows and columns of the expected tensor."
      ]
    },
    {
      "cell_type": "code",
      "metadata": {
        "colab": {
          "base_uri": "https://localhost:8080/"
        },
        "id": "XFMT7j5dSFNv",
        "outputId": "6c51c14d-a416-48e4-b214-bd687b09d3e1"
      },
      "source": [
        "# Example 1 : Creating an uninitialized tensor with 3 rows and 2 columns\n",
        "input = torch.empty(3,2)\n",
        "torch.zeros_like(input)"
      ],
      "execution_count": null,
      "outputs": [
        {
          "output_type": "execute_result",
          "data": {
            "text/plain": [
              "tensor([[0., 0.],\n",
              "        [0., 0.],\n",
              "        [0., 0.]])"
            ]
          },
          "metadata": {
            "tags": []
          },
          "execution_count": 25
        }
      ]
    },
    {
      "cell_type": "markdown",
      "metadata": {
        "id": "p66JcBIGSFNw"
      },
      "source": [
        "Size takes in '3' as the number of rows and '2' as the number of columns. "
      ]
    },
    {
      "cell_type": "code",
      "metadata": {
        "colab": {
          "base_uri": "https://localhost:8080/"
        },
        "id": "-1XpWixKSFNx",
        "outputId": "da0215b7-d08d-4863-8c8e-56dd1b0f27f5"
      },
      "source": [
        "# Example 2 - Creating a tensor 3D tensor \r\n",
        "input = torch.empty(4,3,2)\r\n",
        "torch.zeros_like(input)"
      ],
      "execution_count": null,
      "outputs": [
        {
          "output_type": "execute_result",
          "data": {
            "text/plain": [
              "tensor([[[0., 0.],\n",
              "         [0., 0.],\n",
              "         [0., 0.]],\n",
              "\n",
              "        [[0., 0.],\n",
              "         [0., 0.],\n",
              "         [0., 0.]],\n",
              "\n",
              "        [[0., 0.],\n",
              "         [0., 0.],\n",
              "         [0., 0.]],\n",
              "\n",
              "        [[0., 0.],\n",
              "         [0., 0.],\n",
              "         [0., 0.]]])"
            ]
          },
          "metadata": {
            "tags": []
          },
          "execution_count": 26
        }
      ]
    },
    {
      "cell_type": "markdown",
      "metadata": {
        "id": "VfH8gSk8SFNx"
      },
      "source": [
        "Size generates a tensor with 4 splits of 3X2 size each"
      ]
    },
    {
      "cell_type": "code",
      "metadata": {
        "colab": {
          "base_uri": "https://localhost:8080/",
          "height": 248
        },
        "id": "r0hbWCK1SFNy",
        "outputId": "18386b63-1d58-497e-9342-1b06a93f9fcc"
      },
      "source": [
        "input = torch.empty()\n",
        "torch.zeros_like(input)"
      ],
      "execution_count": null,
      "outputs": [
        {
          "output_type": "error",
          "ename": "TypeError",
          "evalue": "ignored",
          "traceback": [
            "\u001b[0;31m---------------------------------------------------------------------------\u001b[0m",
            "\u001b[0;31mTypeError\u001b[0m                                 Traceback (most recent call last)",
            "\u001b[0;32m<ipython-input-27-1d273cce915c>\u001b[0m in \u001b[0;36m<module>\u001b[0;34m()\u001b[0m\n\u001b[0;32m----> 1\u001b[0;31m \u001b[0minput\u001b[0m \u001b[0;34m=\u001b[0m \u001b[0mtorch\u001b[0m\u001b[0;34m.\u001b[0m\u001b[0mempty\u001b[0m\u001b[0;34m(\u001b[0m\u001b[0;34m)\u001b[0m\u001b[0;34m\u001b[0m\u001b[0;34m\u001b[0m\u001b[0m\n\u001b[0m\u001b[1;32m      2\u001b[0m \u001b[0mtorch\u001b[0m\u001b[0;34m.\u001b[0m\u001b[0mzeros_like\u001b[0m\u001b[0;34m(\u001b[0m\u001b[0minput\u001b[0m\u001b[0;34m)\u001b[0m\u001b[0;34m\u001b[0m\u001b[0;34m\u001b[0m\u001b[0m\n",
            "\u001b[0;31mTypeError\u001b[0m: empty() received an invalid combination of arguments - got (), but expected one of:\n * (tuple of ints size, *, tuple of names names, torch.memory_format memory_format, torch.dtype dtype, torch.layout layout, torch.device device, bool pin_memory, bool requires_grad)\n * (tuple of ints size, *, torch.memory_format memory_format, Tensor out, torch.dtype dtype, torch.layout layout, torch.device device, bool pin_memory, bool requires_grad)\n"
          ]
        }
      ]
    },
    {
      "cell_type": "markdown",
      "metadata": {
        "id": "2QZjmMuISFNy"
      },
      "source": [
        "Empty requires atleast one parameter as its size value. The size of the new tensor is undetermined if empty does not contain any arguments."
      ]
    },
    {
      "cell_type": "markdown",
      "metadata": {
        "id": "eyVo9u0nSFNy"
      },
      "source": [
        "A easy function to implement when an uninitialized tensor of any size is needed."
      ]
    },
    {
      "cell_type": "markdown",
      "metadata": {
        "id": "_BsgxSm8SFNz"
      },
      "source": [
        "Saving"
      ]
    },
    {
      "cell_type": "code",
      "metadata": {
        "id": "ZtipdBa1SFNz"
      },
      "source": [
        "!pip install jovian --upgrade --quiet"
      ],
      "execution_count": null,
      "outputs": []
    },
    {
      "cell_type": "code",
      "metadata": {
        "id": "arGGy3kZSFN0"
      },
      "source": [
        "import jovian"
      ],
      "execution_count": null,
      "outputs": []
    },
    {
      "cell_type": "code",
      "metadata": {
        "colab": {
          "base_uri": "https://localhost:8080/",
          "height": 103
        },
        "id": "Ako6B7CvSFN0",
        "outputId": "747c168f-c422-422b-f5b4-2aa21f1f8e7b"
      },
      "source": [
        "jovian.commit(project='01-tensor-operations')"
      ],
      "execution_count": null,
      "outputs": [
        {
          "output_type": "stream",
          "text": [
            "[jovian] Detected Colab notebook...\u001b[0m\n",
            "[jovian] Uploading colab notebook to Jovian...\u001b[0m\n",
            "[jovian] Capturing environment..\u001b[0m\n",
            "[jovian] Committed successfully! https://jovian.ai/airavati97/01-tensor-operations\u001b[0m\n"
          ],
          "name": "stdout"
        },
        {
          "output_type": "execute_result",
          "data": {
            "application/vnd.google.colaboratory.intrinsic+json": {
              "type": "string"
            },
            "text/plain": [
              "'https://jovian.ai/airavati97/01-tensor-operations'"
            ]
          },
          "metadata": {
            "tags": []
          },
          "execution_count": 30
        }
      ]
    },
    {
      "cell_type": "markdown",
      "metadata": {
        "id": "-cTbEFpnSFN1"
      },
      "source": [
        "## Function 2 - Arrange Function\n",
        "\n",
        "Returns a 1-D tensor of size [(end-start)/step] with values from the interval [start, end) taken with common difference step beginning from start.\n",
        "Parameters are-\n",
        "start (Number) – the starting value for the set of points. Default: 0\n",
        "end (Number) – the ending value for the set of points\n",
        "step (Number) – the gap between each pair of adjacent points. Default: 1"
      ]
    },
    {
      "cell_type": "code",
      "metadata": {
        "colab": {
          "base_uri": "https://localhost:8080/"
        },
        "id": "e0zvI_UHSFN1",
        "outputId": "34a723b6-2566-4a4f-8978-959b35b80aea"
      },
      "source": [
        "# Example 1 - working\r\n",
        "torch.arange(1, 10, 0.5)\r\n"
      ],
      "execution_count": null,
      "outputs": [
        {
          "output_type": "execute_result",
          "data": {
            "text/plain": [
              "tensor([1.0000, 1.5000, 2.0000, 2.5000, 3.0000, 3.5000, 4.0000, 4.5000, 5.0000,\n",
              "        5.5000, 6.0000, 6.5000, 7.0000, 7.5000, 8.0000, 8.5000, 9.0000, 9.5000])"
            ]
          },
          "metadata": {
            "tags": []
          },
          "execution_count": 31
        }
      ]
    },
    {
      "cell_type": "markdown",
      "metadata": {
        "id": "TSbhP6hhSFN1"
      },
      "source": [
        "Creating a tensor with values from 1 to 10 (not including 10) by incrementing in steps of 0.5"
      ]
    },
    {
      "cell_type": "code",
      "metadata": {
        "colab": {
          "base_uri": "https://localhost:8080/"
        },
        "id": "LiXPpMXASFN1",
        "outputId": "22e3a4fe-7724-4a4d-c7ae-bdde798ec205"
      },
      "source": [
        "# Example 2 - working\r\n",
        "torch.arange(-25, -15, 0.75)"
      ],
      "execution_count": null,
      "outputs": [
        {
          "output_type": "execute_result",
          "data": {
            "text/plain": [
              "tensor([-25.0000, -24.2500, -23.5000, -22.7500, -22.0000, -21.2500, -20.5000,\n",
              "        -19.7500, -19.0000, -18.2500, -17.5000, -16.7500, -16.0000, -15.2500])"
            ]
          },
          "metadata": {
            "tags": []
          },
          "execution_count": 32
        }
      ]
    },
    {
      "cell_type": "markdown",
      "metadata": {
        "id": "vveWJriCSFN2"
      },
      "source": [
        "Creating a tensor with values from -25 to -15 (not including -15) by incrementing in steps of 0.75"
      ]
    },
    {
      "cell_type": "code",
      "metadata": {
        "colab": {
          "base_uri": "https://localhost:8080/",
          "height": 180
        },
        "id": "XcbN0raLSFN2",
        "outputId": "e1342e6f-8358-48bd-8285-9528ec3acae6"
      },
      "source": [
        "# Example 3 - breaking (to illustrate when it breaks)\r\n",
        "torch.arange(10,0,1)"
      ],
      "execution_count": null,
      "outputs": [
        {
          "output_type": "error",
          "ename": "RuntimeError",
          "evalue": "ignored",
          "traceback": [
            "\u001b[0;31m---------------------------------------------------------------------------\u001b[0m",
            "\u001b[0;31mRuntimeError\u001b[0m                              Traceback (most recent call last)",
            "\u001b[0;32m<ipython-input-34-43797b77147d>\u001b[0m in \u001b[0;36m<module>\u001b[0;34m()\u001b[0m\n\u001b[1;32m      1\u001b[0m \u001b[0;31m# Example 3 - breaking (to illustrate when it breaks)\u001b[0m\u001b[0;34m\u001b[0m\u001b[0;34m\u001b[0m\u001b[0;34m\u001b[0m\u001b[0m\n\u001b[0;32m----> 2\u001b[0;31m \u001b[0mtorch\u001b[0m\u001b[0;34m.\u001b[0m\u001b[0marange\u001b[0m\u001b[0;34m(\u001b[0m\u001b[0;36m10\u001b[0m\u001b[0;34m,\u001b[0m\u001b[0;36m0\u001b[0m\u001b[0;34m,\u001b[0m\u001b[0;36m1\u001b[0m\u001b[0;34m)\u001b[0m\u001b[0;34m\u001b[0m\u001b[0;34m\u001b[0m\u001b[0m\n\u001b[0m",
            "\u001b[0;31mRuntimeError\u001b[0m: upper bound and larger bound inconsistent with step sign"
          ]
        }
      ]
    },
    {
      "cell_type": "markdown",
      "metadata": {
        "id": "zABGLAFcSFN3"
      },
      "source": [
        "if the start value is greater than the stop value, the step should be -ve, and vice versa"
      ]
    },
    {
      "cell_type": "markdown",
      "metadata": {
        "id": "ViJNvEy7SFN4"
      },
      "source": [
        "Allows to generate a tensor with elements differing by a constant value"
      ]
    },
    {
      "cell_type": "markdown",
      "metadata": {
        "id": "FN-LxwI9i7zX"
      },
      "source": [
        "Saving"
      ]
    },
    {
      "cell_type": "code",
      "metadata": {
        "colab": {
          "base_uri": "https://localhost:8080/",
          "height": 103
        },
        "id": "EOtSkI5ZSFN4",
        "outputId": "e2a6cd8d-7eb1-4b1c-efad-86a1858b0c54"
      },
      "source": [
        "jovian.commit(project='01-tensor-operations')"
      ],
      "execution_count": null,
      "outputs": [
        {
          "output_type": "stream",
          "text": [
            "[jovian] Detected Colab notebook...\u001b[0m\n",
            "[jovian] Uploading colab notebook to Jovian...\u001b[0m\n",
            "[jovian] Capturing environment..\u001b[0m\n",
            "[jovian] Committed successfully! https://jovian.ai/airavati97/01-tensor-operations\u001b[0m\n"
          ],
          "name": "stdout"
        },
        {
          "output_type": "execute_result",
          "data": {
            "application/vnd.google.colaboratory.intrinsic+json": {
              "type": "string"
            },
            "text/plain": [
              "'https://jovian.ai/airavati97/01-tensor-operations'"
            ]
          },
          "metadata": {
            "tags": []
          },
          "execution_count": 35
        }
      ]
    },
    {
      "cell_type": "markdown",
      "metadata": {
        "id": "4_61Xu37jA9w"
      },
      "source": [
        "Mathematical Functions"
      ]
    },
    {
      "cell_type": "markdown",
      "metadata": {
        "id": "SKT69AbeSFN5"
      },
      "source": [
        "## Function 3 - Complex Function\n",
        "\n",
        "Constructs a complex tensor with its real part equal to real and its imaginary part equal to imag.\n",
        "\n",
        "Parameters:\n",
        "[1] real (Tensor) – The real part of the complex tensor. Must be float or double.\n",
        " [2] imag (Tensor) – The imaginary part of the complex tensor. Must be same dtype as real.\n",
        "\n"
      ]
    },
    {
      "cell_type": "code",
      "metadata": {
        "colab": {
          "base_uri": "https://localhost:8080/"
        },
        "id": "GOvRXr5wSFN5",
        "outputId": "fff40187-8467-4da6-cf1f-83b93925a5fd"
      },
      "source": [
        "# Example 1 - working\r\n",
        "\r\n",
        "real = torch.tensor([2, 2.2], dtype=torch.float32)\r\n",
        "imaginary = torch.tensor([3.5, 4.5], dtype=torch.float32)\r\n",
        "z = torch.complex(real, imaginary)\r\n",
        "z"
      ],
      "execution_count": null,
      "outputs": [
        {
          "output_type": "execute_result",
          "data": {
            "text/plain": [
              "tensor([2.0000+3.5000j, 2.2000+4.5000j])"
            ]
          },
          "metadata": {
            "tags": []
          },
          "execution_count": 36
        }
      ]
    },
    {
      "cell_type": "markdown",
      "metadata": {
        "id": "dDgdso8TSFN5"
      },
      "source": [
        "Creating two tensor values- one with the real part as 2 and imaginary part as 3.5, and the other with the real part as 2.2 and imaginary part as 4.5; represented in real and imaginary coordinate form "
      ]
    },
    {
      "cell_type": "code",
      "metadata": {
        "colab": {
          "base_uri": "https://localhost:8080/"
        },
        "id": "eDxa6ZmwSFN5",
        "outputId": "599cf1a3-d365-4103-f870-011c93a6c815"
      },
      "source": [
        "# Example 2 - working\r\n",
        "real = torch.tensor([-2], dtype=torch.float32)\r\n",
        "imaginary = torch.tensor([3.5, 4.5,-6.7], dtype=torch.float32)\r\n",
        "z = torch.complex(real, imaginary)\r\n",
        "z"
      ],
      "execution_count": null,
      "outputs": [
        {
          "output_type": "execute_result",
          "data": {
            "text/plain": [
              "tensor([-2.+3.5000j, -2.+4.5000j, -2.-6.7000j])"
            ]
          },
          "metadata": {
            "tags": []
          },
          "execution_count": 38
        }
      ]
    },
    {
      "cell_type": "markdown",
      "metadata": {
        "id": "cgb87rkKSFN6"
      },
      "source": [
        "Creating three tensor values- all with the real part as 2 and imaginary part as 3.5,4,5 and -6.7"
      ]
    },
    {
      "cell_type": "code",
      "metadata": {
        "colab": {
          "base_uri": "https://localhost:8080/",
          "height": 214
        },
        "id": "FY2aXiPWSFN6",
        "outputId": "251b4204-429d-4869-a0fc-de53c5241f1b"
      },
      "source": [
        "# Example 3 - breaking (to illustrate when it breaks)\r\n",
        "real = torch.tensor([], dtype=torch.float32)\r\n",
        "imaginary = torch.tensor([3.5, 4.5,-6.7], dtype=torch.float32)\r\n",
        "z = torch.complex(real, imaginary)\r\n",
        "z"
      ],
      "execution_count": null,
      "outputs": [
        {
          "output_type": "error",
          "ename": "RuntimeError",
          "evalue": "ignored",
          "traceback": [
            "\u001b[0;31m---------------------------------------------------------------------------\u001b[0m",
            "\u001b[0;31mRuntimeError\u001b[0m                              Traceback (most recent call last)",
            "\u001b[0;32m<ipython-input-39-6f43d40479f5>\u001b[0m in \u001b[0;36m<module>\u001b[0;34m()\u001b[0m\n\u001b[1;32m      2\u001b[0m \u001b[0mreal\u001b[0m \u001b[0;34m=\u001b[0m \u001b[0mtorch\u001b[0m\u001b[0;34m.\u001b[0m\u001b[0mtensor\u001b[0m\u001b[0;34m(\u001b[0m\u001b[0;34m[\u001b[0m\u001b[0;34m]\u001b[0m\u001b[0;34m,\u001b[0m \u001b[0mdtype\u001b[0m\u001b[0;34m=\u001b[0m\u001b[0mtorch\u001b[0m\u001b[0;34m.\u001b[0m\u001b[0mfloat32\u001b[0m\u001b[0;34m)\u001b[0m\u001b[0;34m\u001b[0m\u001b[0;34m\u001b[0m\u001b[0m\n\u001b[1;32m      3\u001b[0m \u001b[0mimaginary\u001b[0m \u001b[0;34m=\u001b[0m \u001b[0mtorch\u001b[0m\u001b[0;34m.\u001b[0m\u001b[0mtensor\u001b[0m\u001b[0;34m(\u001b[0m\u001b[0;34m[\u001b[0m\u001b[0;36m3.5\u001b[0m\u001b[0;34m,\u001b[0m \u001b[0;36m4.5\u001b[0m\u001b[0;34m,\u001b[0m\u001b[0;34m-\u001b[0m\u001b[0;36m6.7\u001b[0m\u001b[0;34m]\u001b[0m\u001b[0;34m,\u001b[0m \u001b[0mdtype\u001b[0m\u001b[0;34m=\u001b[0m\u001b[0mtorch\u001b[0m\u001b[0;34m.\u001b[0m\u001b[0mfloat32\u001b[0m\u001b[0;34m)\u001b[0m\u001b[0;34m\u001b[0m\u001b[0;34m\u001b[0m\u001b[0m\n\u001b[0;32m----> 4\u001b[0;31m \u001b[0mz\u001b[0m \u001b[0;34m=\u001b[0m \u001b[0mtorch\u001b[0m\u001b[0;34m.\u001b[0m\u001b[0mcomplex\u001b[0m\u001b[0;34m(\u001b[0m\u001b[0mreal\u001b[0m\u001b[0;34m,\u001b[0m \u001b[0mimaginary\u001b[0m\u001b[0;34m)\u001b[0m\u001b[0;34m\u001b[0m\u001b[0;34m\u001b[0m\u001b[0m\n\u001b[0m\u001b[1;32m      5\u001b[0m \u001b[0mz\u001b[0m\u001b[0;34m\u001b[0m\u001b[0;34m\u001b[0m\u001b[0m\n",
            "\u001b[0;31mRuntimeError\u001b[0m: The size of tensor a (0) must match the size of tensor b (3) at non-singleton dimension 0"
          ]
        }
      ]
    },
    {
      "cell_type": "markdown",
      "metadata": {
        "id": "RjxRI6rxSFN7"
      },
      "source": [
        "Generating a tensor with real part as empty is not possible, if no real part,enter 0"
      ]
    },
    {
      "cell_type": "code",
      "metadata": {
        "colab": {
          "base_uri": "https://localhost:8080/"
        },
        "id": "I4RhQqg8lHp0",
        "outputId": "8469109b-179b-4f20-debe-4758b90f91e7"
      },
      "source": [
        "#when no real part exists, enter 0\r\n",
        "real = torch.tensor([0], dtype=torch.float32)\r\n",
        "imaginary = torch.tensor([3.5, 4.5,-6.7], dtype=torch.float32)\r\n",
        "z = torch.complex(real, imaginary)\r\n",
        "z"
      ],
      "execution_count": null,
      "outputs": [
        {
          "output_type": "execute_result",
          "data": {
            "text/plain": [
              "tensor([0.+3.5000j, 0.+4.5000j, 0.-6.7000j])"
            ]
          },
          "metadata": {
            "tags": []
          },
          "execution_count": 40
        }
      ]
    },
    {
      "cell_type": "code",
      "metadata": {
        "colab": {
          "base_uri": "https://localhost:8080/",
          "height": 129
        },
        "id": "8Ey9BWKGlTMn",
        "outputId": "3c14093d-48e0-46ce-f82e-daa373698e53"
      },
      "source": [
        "# Example 4 - breaking (to illustrate when it breaks)\r\n",
        "real = torch.tensor([], \r\n",
        "imaginary = torch.tensor([3.5, 4.5,-6.7], dtype=torch.float32)\r\n",
        "z = torch.complex(real, imaginary)\r\n",
        "z"
      ],
      "execution_count": null,
      "outputs": [
        {
          "output_type": "error",
          "ename": "SyntaxError",
          "evalue": "ignored",
          "traceback": [
            "\u001b[0;36m  File \u001b[0;32m\"<ipython-input-41-92640fd7cc25>\"\u001b[0;36m, line \u001b[0;32m4\u001b[0m\n\u001b[0;31m    z = torch.complex(real, imaginary)\u001b[0m\n\u001b[0m    ^\u001b[0m\n\u001b[0;31mSyntaxError\u001b[0m\u001b[0;31m:\u001b[0m invalid syntax\n"
          ]
        }
      ]
    },
    {
      "cell_type": "markdown",
      "metadata": {
        "id": "bDaEdUA1SFN7"
      },
      "source": [
        "not possible to perform computation when dtype not specified for one element"
      ]
    },
    {
      "cell_type": "code",
      "metadata": {
        "colab": {
          "base_uri": "https://localhost:8080/",
          "height": 214
        },
        "id": "Kq6I0etylq5r",
        "outputId": "c0fc1161-6801-473e-deba-d4632c7bbfbc"
      },
      "source": [
        "# Example 5- breaking (to illustrate when it breaks)\r\n",
        "real = torch.tensor([0])\r\n",
        "imaginary = torch.tensor([3.5, 4.5,-6.7])\r\n",
        "z = torch.complex(real, imaginary)\r\n",
        "z"
      ],
      "execution_count": null,
      "outputs": [
        {
          "output_type": "error",
          "ename": "RuntimeError",
          "evalue": "ignored",
          "traceback": [
            "\u001b[0;31m---------------------------------------------------------------------------\u001b[0m",
            "\u001b[0;31mRuntimeError\u001b[0m                              Traceback (most recent call last)",
            "\u001b[0;32m<ipython-input-44-846d3f084c9e>\u001b[0m in \u001b[0;36m<module>\u001b[0;34m()\u001b[0m\n\u001b[1;32m      2\u001b[0m \u001b[0mreal\u001b[0m \u001b[0;34m=\u001b[0m \u001b[0mtorch\u001b[0m\u001b[0;34m.\u001b[0m\u001b[0mtensor\u001b[0m\u001b[0;34m(\u001b[0m\u001b[0;34m[\u001b[0m\u001b[0;36m0\u001b[0m\u001b[0;34m]\u001b[0m\u001b[0;34m)\u001b[0m\u001b[0;34m\u001b[0m\u001b[0;34m\u001b[0m\u001b[0m\n\u001b[1;32m      3\u001b[0m \u001b[0mimaginary\u001b[0m \u001b[0;34m=\u001b[0m \u001b[0mtorch\u001b[0m\u001b[0;34m.\u001b[0m\u001b[0mtensor\u001b[0m\u001b[0;34m(\u001b[0m\u001b[0;34m[\u001b[0m\u001b[0;36m3.5\u001b[0m\u001b[0;34m,\u001b[0m \u001b[0;36m4.5\u001b[0m\u001b[0;34m,\u001b[0m\u001b[0;34m-\u001b[0m\u001b[0;36m6.7\u001b[0m\u001b[0;34m]\u001b[0m\u001b[0;34m)\u001b[0m\u001b[0;34m\u001b[0m\u001b[0;34m\u001b[0m\u001b[0m\n\u001b[0;32m----> 4\u001b[0;31m \u001b[0mz\u001b[0m \u001b[0;34m=\u001b[0m \u001b[0mtorch\u001b[0m\u001b[0;34m.\u001b[0m\u001b[0mcomplex\u001b[0m\u001b[0;34m(\u001b[0m\u001b[0mreal\u001b[0m\u001b[0;34m,\u001b[0m \u001b[0mimaginary\u001b[0m\u001b[0;34m)\u001b[0m\u001b[0;34m\u001b[0m\u001b[0;34m\u001b[0m\u001b[0m\n\u001b[0m\u001b[1;32m      5\u001b[0m \u001b[0mz\u001b[0m\u001b[0;34m\u001b[0m\u001b[0;34m\u001b[0m\u001b[0m\n",
            "\u001b[0;31mRuntimeError\u001b[0m: Expected both inputs to be Float or Double tensors but got Long and Float"
          ]
        }
      ]
    },
    {
      "cell_type": "markdown",
      "metadata": {
        "id": "AMa76XQOmEVd"
      },
      "source": [
        "not possible to perform computation when dtype not specified for both elements"
      ]
    },
    {
      "cell_type": "markdown",
      "metadata": {
        "id": "kaFS0QP0mHIr"
      },
      "source": [
        "Saving"
      ]
    },
    {
      "cell_type": "code",
      "metadata": {
        "id": "s0TiE3w9SFN8",
        "outputId": "8bc92b9a-0caa-4d0f-c34b-4c6fabb49209"
      },
      "source": [
        "jovian.commit(project='01-tensor-operations')"
      ],
      "execution_count": null,
      "outputs": [
        {
          "output_type": "display_data",
          "data": {
            "application/javascript": [
              "window.require && require([\"base/js/namespace\"],function(Jupyter){Jupyter.notebook.save_checkpoint()})"
            ],
            "text/plain": [
              "<IPython.core.display.Javascript object>"
            ]
          },
          "metadata": {
            "tags": []
          }
        },
        {
          "output_type": "stream",
          "text": [
            "[jovian] Attempting to save notebook..\u001b[0m\n",
            "[jovian] Updating notebook \"aakashns/01-tensor-operations\" on https://jovian.ai/\u001b[0m\n",
            "[jovian] Uploading notebook..\u001b[0m\n",
            "[jovian] Capturing environment..\u001b[0m\n",
            "[jovian] Committed successfully! https://jovian.ai/aakashns/01-tensor-operations\u001b[0m\n"
          ],
          "name": "stdout"
        },
        {
          "output_type": "execute_result",
          "data": {
            "text/plain": [
              "'https://jovian.ai/aakashns/01-tensor-operations'"
            ]
          },
          "metadata": {
            "tags": []
          },
          "execution_count": 17
        }
      ]
    },
    {
      "cell_type": "markdown",
      "metadata": {
        "id": "WdHkgOb_SFN9"
      },
      "source": [
        "## Function 4 - Heavyside Step function\n",
        "\n",
        "Computes the Heaviside step function for each element in input. The Heaviside step function is defined as:\n",
        "\n",
        "heaviside(input,values)= {\n",
        "\n",
        "0,if input < 0\n",
        "\n",
        "values,if input == 0\n",
        "\n",
        "1,if input > 0\n",
        "\n",
        "​}\t\n",
        "Parameters\n",
        "\n",
        "[1]input (Tensor) – the input tensor.\n",
        "\n",
        "[2]values (Tensor) – The values to use where input is zero."
      ]
    },
    {
      "cell_type": "code",
      "metadata": {
        "colab": {
          "base_uri": "https://localhost:8080/"
        },
        "id": "PRLkqIg2SFN9",
        "outputId": "4118be07-5c87-478d-da3a-0fc460aa3086"
      },
      "source": [
        "# Example 1 - working\r\n",
        "input = torch.tensor([-1.5, 0, 2.0])\r\n",
        "values = torch.tensor([0.5])\r\n",
        "torch.heaviside(input, values)\r\n"
      ],
      "execution_count": null,
      "outputs": [
        {
          "output_type": "execute_result",
          "data": {
            "text/plain": [
              "tensor([0.0000, 0.5000, 1.0000])"
            ]
          },
          "metadata": {
            "tags": []
          },
          "execution_count": 45
        }
      ]
    },
    {
      "cell_type": "markdown",
      "metadata": {
        "id": "-6mfpeBYSFN-"
      },
      "source": [
        "According to the input, the new tensor generated has values\r\n",
        "\r\n",
        "0 as the first element -1.5 is less than 0\r\n",
        "\r\n",
        "0.5 as the second element of input is 0 and is replaced by 'values' parameter\r\n",
        "\r\n",
        "1 as the final element of input is greater than 1 "
      ]
    },
    {
      "cell_type": "code",
      "metadata": {
        "colab": {
          "base_uri": "https://localhost:8080/"
        },
        "id": "ZCGXHF6uSFN-",
        "outputId": "e986d08b-482e-4b89-ba07-edfd6cc19ef8"
      },
      "source": [
        "# Example 2 - working\r\n",
        "input = torch.tensor([-1.5, 0, 2.0,0])\r\n",
        "values = torch.tensor([0.5,-9,0,10])\r\n",
        "torch.heaviside(input, values)\r\n"
      ],
      "execution_count": null,
      "outputs": [
        {
          "output_type": "execute_result",
          "data": {
            "text/plain": [
              "tensor([ 0., -9.,  1., 10.])"
            ]
          },
          "metadata": {
            "tags": []
          },
          "execution_count": 53
        }
      ]
    },
    {
      "cell_type": "markdown",
      "metadata": {
        "id": "NDQ2fpR_SFN-"
      },
      "source": [
        "According to the input, the new tensor generated has values\r\n",
        "\r\n",
        "0 as the first element -1.5 is less than 0\r\n",
        "\r\n",
        "-9 as the second element of input is 0 and is replaced by corresponding index in 'values' parameter\r\n",
        "\r\n",
        "1 as the next element of input is greater than 1\r\n",
        "\r\n",
        "10 as the final element of input is 0 and hence replaced by corresponding index in 'values' parameter"
      ]
    },
    {
      "cell_type": "code",
      "metadata": {
        "colab": {
          "base_uri": "https://localhost:8080/",
          "height": 197
        },
        "id": "f-OBRfMTSFN-",
        "outputId": "4bf27cc7-a1ce-4ad5-f31d-3a5a5d46c2a2"
      },
      "source": [
        "# Example 3 - breaking (to illustrate when it breaks)\r\n",
        "input = torch.tensor([-1.5, 0, 2.0,0,0,7])\r\n",
        "values = torch.tensor([0.5,-9,-6,7])\r\n",
        "torch.heaviside(input, values)"
      ],
      "execution_count": null,
      "outputs": [
        {
          "output_type": "error",
          "ename": "RuntimeError",
          "evalue": "ignored",
          "traceback": [
            "\u001b[0;31m---------------------------------------------------------------------------\u001b[0m",
            "\u001b[0;31mRuntimeError\u001b[0m                              Traceback (most recent call last)",
            "\u001b[0;32m<ipython-input-55-8ddfa02cb967>\u001b[0m in \u001b[0;36m<module>\u001b[0;34m()\u001b[0m\n\u001b[1;32m      2\u001b[0m \u001b[0minput\u001b[0m \u001b[0;34m=\u001b[0m \u001b[0mtorch\u001b[0m\u001b[0;34m.\u001b[0m\u001b[0mtensor\u001b[0m\u001b[0;34m(\u001b[0m\u001b[0;34m[\u001b[0m\u001b[0;34m-\u001b[0m\u001b[0;36m1.5\u001b[0m\u001b[0;34m,\u001b[0m \u001b[0;36m0\u001b[0m\u001b[0;34m,\u001b[0m \u001b[0;36m2.0\u001b[0m\u001b[0;34m,\u001b[0m\u001b[0;36m0\u001b[0m\u001b[0;34m,\u001b[0m\u001b[0;36m0\u001b[0m\u001b[0;34m,\u001b[0m\u001b[0;36m7\u001b[0m\u001b[0;34m]\u001b[0m\u001b[0;34m)\u001b[0m\u001b[0;34m\u001b[0m\u001b[0;34m\u001b[0m\u001b[0m\n\u001b[1;32m      3\u001b[0m \u001b[0mvalues\u001b[0m \u001b[0;34m=\u001b[0m \u001b[0mtorch\u001b[0m\u001b[0;34m.\u001b[0m\u001b[0mtensor\u001b[0m\u001b[0;34m(\u001b[0m\u001b[0;34m[\u001b[0m\u001b[0;36m0.5\u001b[0m\u001b[0;34m,\u001b[0m\u001b[0;34m-\u001b[0m\u001b[0;36m9\u001b[0m\u001b[0;34m,\u001b[0m\u001b[0;34m-\u001b[0m\u001b[0;36m6\u001b[0m\u001b[0;34m,\u001b[0m\u001b[0;36m7\u001b[0m\u001b[0;34m]\u001b[0m\u001b[0;34m)\u001b[0m\u001b[0;34m\u001b[0m\u001b[0;34m\u001b[0m\u001b[0m\n\u001b[0;32m----> 4\u001b[0;31m \u001b[0mtorch\u001b[0m\u001b[0;34m.\u001b[0m\u001b[0mheaviside\u001b[0m\u001b[0;34m(\u001b[0m\u001b[0minput\u001b[0m\u001b[0;34m,\u001b[0m \u001b[0mvalues\u001b[0m\u001b[0;34m)\u001b[0m\u001b[0;34m\u001b[0m\u001b[0;34m\u001b[0m\u001b[0m\n\u001b[0m",
            "\u001b[0;31mRuntimeError\u001b[0m: The size of tensor a (6) must match the size of tensor b (4) at non-singleton dimension 0"
          ]
        }
      ]
    },
    {
      "cell_type": "markdown",
      "metadata": {
        "id": "NDT2LIBGSFN_"
      },
      "source": [
        "The dimentions of the 'values' tensor are incorrect for the given input tensor"
      ]
    },
    {
      "cell_type": "markdown",
      "metadata": {
        "id": "04YM9pn7SFN_"
      },
      "source": [
        "To be used if set values are needed to be inserted into locations with a null entry, but the remaining tensor should remain as either 0 or 1 to differentiate between entries greater and less than 0 (i.e. +ve and -ve values)"
      ]
    },
    {
      "cell_type": "markdown",
      "metadata": {
        "id": "ATZ_lhfPqGeF"
      },
      "source": [
        "Saving"
      ]
    },
    {
      "cell_type": "code",
      "metadata": {
        "colab": {
          "base_uri": "https://localhost:8080/",
          "height": 103
        },
        "id": "15A7EdcZSFN_",
        "outputId": "ca6d6f77-3138-4fda-cb0f-5d7af920618d"
      },
      "source": [
        "jovian.commit(project='01-tensor-operations')"
      ],
      "execution_count": null,
      "outputs": [
        {
          "output_type": "stream",
          "text": [
            "[jovian] Detected Colab notebook...\u001b[0m\n",
            "[jovian] Uploading colab notebook to Jovian...\u001b[0m\n",
            "[jovian] Capturing environment..\u001b[0m\n",
            "[jovian] Committed successfully! https://jovian.ai/airavati97/01-tensor-operations\u001b[0m\n"
          ],
          "name": "stdout"
        },
        {
          "output_type": "execute_result",
          "data": {
            "application/vnd.google.colaboratory.intrinsic+json": {
              "type": "string"
            },
            "text/plain": [
              "'https://jovian.ai/airavati97/01-tensor-operations'"
            ]
          },
          "metadata": {
            "tags": []
          },
          "execution_count": 56
        }
      ]
    },
    {
      "cell_type": "markdown",
      "metadata": {
        "id": "NAVr5_70SFN_"
      },
      "source": [
        "\n",
        "\n",
        "```\n",
        "# This is formatted as code\n",
        "```\n",
        "\n",
        "## Function 5 - Polar Function\n",
        "\n",
        "Constructs a complex tensor whose elements are Cartesian coordinates corresponding to the polar coordinates with absolute value abs and angle angle.\n",
        "\n",
        "out=abs⋅cos(angle)+abs⋅sin(angle)⋅j\n",
        "\n",
        "Parameters\n",
        "\n",
        "[1]abs (Tensor) – The absolute value the complex tensor. Must be float or double.\n",
        "\n",
        "[2]angle (Tensor) – The angle of the complex tensor. Must be same dtype as abs.\n",
        "\n",
        "*the value of pi should be converted by multiplying with np (numpy is a python library)"
      ]
    },
    {
      "cell_type": "code",
      "metadata": {
        "colab": {
          "base_uri": "https://localhost:8080/"
        },
        "id": "CzHfSvFVSFOA",
        "outputId": "6b0a6c4e-000b-4a4b-db83-5df171ab4c5d"
      },
      "source": [
        "# Example 1 - working\r\n",
        "import numpy as np\r\n",
        "abs = torch.tensor([1, 2], dtype=torch.float64)\r\n",
        "angle = torch.tensor([np.pi / 2, 5 * np.pi / 2], dtype=torch.float64)\r\n",
        "z = torch.polar(abs, angle)\r\n",
        "z"
      ],
      "execution_count": null,
      "outputs": [
        {
          "output_type": "execute_result",
          "data": {
            "text/plain": [
              "tensor([6.1232e-17+1.j, 6.1232e-16+2.j], dtype=torch.complex128)"
            ]
          },
          "metadata": {
            "tags": []
          },
          "execution_count": 16
        }
      ]
    },
    {
      "cell_type": "markdown",
      "metadata": {
        "id": "iR6X4OxJSFOA"
      },
      "source": [
        "Two tensor values are generated\r\n",
        "\r\n",
        "One with absolute value 1 and the angle as pi/2\r\n",
        "\r\n",
        "Second with absolute value 2 and the angle as 5pi/2\r\n",
        "\r\n",
        "where pi is in radians (after conversion)"
      ]
    },
    {
      "cell_type": "code",
      "metadata": {
        "colab": {
          "base_uri": "https://localhost:8080/"
        },
        "id": "f2vddzvOSFOA",
        "outputId": "583120dc-d15d-438d-d7d7-ea10620ea14f"
      },
      "source": [
        "# Example 2 - working\r\n",
        "import numpy as np\r\n",
        "abs = torch.tensor([-0.7,-9,6,3.2], dtype=torch.float64)\r\n",
        "angle = torch.tensor([4*np.pi / 2, 3*np.pi / 2,4*np.pi / 3,5 * np.pi / 2], dtype=torch.float64)\r\n",
        "z = torch.polar(abs, angle)\r\n",
        "z"
      ],
      "execution_count": null,
      "outputs": [
        {
          "output_type": "execute_result",
          "data": {
            "text/plain": [
              "tensor([-7.0000e-01+1.7145e-16j,  1.6533e-15+9.0000e+00j,\n",
              "        -3.0000e+00-5.1962e+00j,  9.7972e-16+3.2000e+00j],\n",
              "       dtype=torch.complex128)"
            ]
          },
          "metadata": {
            "tags": []
          },
          "execution_count": 57
        }
      ]
    },
    {
      "cell_type": "markdown",
      "metadata": {
        "id": "ClxV2_SRSFOA"
      },
      "source": [
        "A series of elements having the abs part as a -ve numbers or a float, and different angles have been created by the polar function, by choosing abs value and corresponding angle value"
      ]
    },
    {
      "cell_type": "code",
      "metadata": {
        "colab": {
          "base_uri": "https://localhost:8080/"
        },
        "id": "ZoQH_6GVSFOB",
        "outputId": "9af115a4-162f-4c8f-f245-1e47532e4b65"
      },
      "source": [
        "# Example 3 - working\r\n",
        "import numpy as np\r\n",
        "abs = torch.tensor([1, 2], dtype=torch.float64)\r\n",
        "angle = torch.tensor([np.pi / 2], dtype=torch.float64)\r\n",
        "z = torch.polar(abs, angle)\r\n",
        "z"
      ],
      "execution_count": null,
      "outputs": [
        {
          "output_type": "execute_result",
          "data": {
            "text/plain": [
              "tensor([6.1232e-17+1.j, 1.2246e-16+2.j], dtype=torch.complex128)"
            ]
          },
          "metadata": {
            "tags": []
          },
          "execution_count": 58
        }
      ]
    },
    {
      "cell_type": "markdown",
      "metadata": {
        "id": "5oaVlT5DSFOB"
      },
      "source": [
        "Same angle is used for both abs part"
      ]
    },
    {
      "cell_type": "code",
      "metadata": {
        "colab": {
          "base_uri": "https://localhost:8080/",
          "height": 231
        },
        "id": "Eu6f29tDsay0",
        "outputId": "770ffd8c-25f2-4073-86fd-e11e356ec9f6"
      },
      "source": [
        "# Example 4 - break\r\n",
        "import numpy as np\r\n",
        "abs = torch.tensor([1, 2], dtype=torch.float64)\r\n",
        "angle = torch.tensor([pi / 2], dtype=torch.float64)\r\n",
        "z = torch.polar(abs, angle)\r\n",
        "z"
      ],
      "execution_count": null,
      "outputs": [
        {
          "output_type": "error",
          "ename": "NameError",
          "evalue": "ignored",
          "traceback": [
            "\u001b[0;31m---------------------------------------------------------------------------\u001b[0m",
            "\u001b[0;31mNameError\u001b[0m                                 Traceback (most recent call last)",
            "\u001b[0;32m<ipython-input-59-ac8af239fd8f>\u001b[0m in \u001b[0;36m<module>\u001b[0;34m()\u001b[0m\n\u001b[1;32m      2\u001b[0m \u001b[0;32mimport\u001b[0m \u001b[0mnumpy\u001b[0m \u001b[0;32mas\u001b[0m \u001b[0mnp\u001b[0m\u001b[0;34m\u001b[0m\u001b[0;34m\u001b[0m\u001b[0m\n\u001b[1;32m      3\u001b[0m \u001b[0mabs\u001b[0m \u001b[0;34m=\u001b[0m \u001b[0mtorch\u001b[0m\u001b[0;34m.\u001b[0m\u001b[0mtensor\u001b[0m\u001b[0;34m(\u001b[0m\u001b[0;34m[\u001b[0m\u001b[0;36m1\u001b[0m\u001b[0;34m,\u001b[0m \u001b[0;36m2\u001b[0m\u001b[0;34m]\u001b[0m\u001b[0;34m,\u001b[0m \u001b[0mdtype\u001b[0m\u001b[0;34m=\u001b[0m\u001b[0mtorch\u001b[0m\u001b[0;34m.\u001b[0m\u001b[0mfloat64\u001b[0m\u001b[0;34m)\u001b[0m\u001b[0;34m\u001b[0m\u001b[0;34m\u001b[0m\u001b[0m\n\u001b[0;32m----> 4\u001b[0;31m \u001b[0mangle\u001b[0m \u001b[0;34m=\u001b[0m \u001b[0mtorch\u001b[0m\u001b[0;34m.\u001b[0m\u001b[0mtensor\u001b[0m\u001b[0;34m(\u001b[0m\u001b[0;34m[\u001b[0m\u001b[0mpi\u001b[0m \u001b[0;34m/\u001b[0m \u001b[0;36m2\u001b[0m\u001b[0;34m]\u001b[0m\u001b[0;34m,\u001b[0m \u001b[0mdtype\u001b[0m\u001b[0;34m=\u001b[0m\u001b[0mtorch\u001b[0m\u001b[0;34m.\u001b[0m\u001b[0mfloat64\u001b[0m\u001b[0;34m)\u001b[0m\u001b[0;34m\u001b[0m\u001b[0;34m\u001b[0m\u001b[0m\n\u001b[0m\u001b[1;32m      5\u001b[0m \u001b[0mz\u001b[0m \u001b[0;34m=\u001b[0m \u001b[0mtorch\u001b[0m\u001b[0;34m.\u001b[0m\u001b[0mpolar\u001b[0m\u001b[0;34m(\u001b[0m\u001b[0mabs\u001b[0m\u001b[0;34m,\u001b[0m \u001b[0mangle\u001b[0m\u001b[0;34m)\u001b[0m\u001b[0;34m\u001b[0m\u001b[0;34m\u001b[0m\u001b[0m\n\u001b[1;32m      6\u001b[0m \u001b[0mz\u001b[0m\u001b[0;34m\u001b[0m\u001b[0;34m\u001b[0m\u001b[0m\n",
            "\u001b[0;31mNameError\u001b[0m: name 'pi' is not defined"
          ]
        }
      ]
    },
    {
      "cell_type": "markdown",
      "metadata": {
        "id": "L6f5Kc_oshwO"
      },
      "source": [
        "pi value has to be defined and * by np"
      ]
    },
    {
      "cell_type": "code",
      "metadata": {
        "colab": {
          "base_uri": "https://localhost:8080/"
        },
        "id": "kO9wclF1stOL",
        "outputId": "0aca93c4-4ec3-4fdb-9c8e-eda0e65b6313"
      },
      "source": [
        "# Example 5 - empty abs (results in empty tensor)\r\n",
        "\r\n",
        "import numpy as np\r\n",
        "abs = torch.tensor([], dtype=torch.float64)\r\n",
        "angle = torch.tensor([np.pi / 2], dtype=torch.float64)\r\n",
        "z = torch.polar(abs, angle)\r\n",
        "z\r\n"
      ],
      "execution_count": null,
      "outputs": [
        {
          "output_type": "execute_result",
          "data": {
            "text/plain": [
              "tensor([], dtype=torch.complex128)"
            ]
          },
          "metadata": {
            "tags": []
          },
          "execution_count": 62
        }
      ]
    },
    {
      "cell_type": "markdown",
      "metadata": {
        "id": "_kA3ObmgSFOB"
      },
      "source": [
        "Used when the polar form has to be generated from a set of abs and angle values"
      ]
    },
    {
      "cell_type": "markdown",
      "metadata": {
        "id": "IZ7RCkeXtSf7"
      },
      "source": [
        "Saving"
      ]
    },
    {
      "cell_type": "code",
      "metadata": {
        "id": "yu9nZENRSFOB",
        "outputId": "58f02f97-f3b6-44b9-a2c7-1661cdd074d6"
      },
      "source": [
        "jovian.commit(project='01-tensor-operations')"
      ],
      "execution_count": null,
      "outputs": [
        {
          "output_type": "display_data",
          "data": {
            "application/javascript": [
              "window.require && require([\"base/js/namespace\"],function(Jupyter){Jupyter.notebook.save_checkpoint()})"
            ],
            "text/plain": [
              "<IPython.core.display.Javascript object>"
            ]
          },
          "metadata": {
            "tags": []
          }
        },
        {
          "output_type": "stream",
          "text": [
            "[jovian] Attempting to save notebook..\u001b[0m\n",
            "[jovian] Updating notebook \"aakashns/01-tensor-operations\" on https://jovian.ai/\u001b[0m\n",
            "[jovian] Uploading notebook..\u001b[0m\n",
            "[jovian] Capturing environment..\u001b[0m\n",
            "[jovian] Committed successfully! https://jovian.ai/aakashns/01-tensor-operations\u001b[0m\n"
          ],
          "name": "stdout"
        },
        {
          "output_type": "execute_result",
          "data": {
            "text/plain": [
              "'https://jovian.ai/aakashns/01-tensor-operations'"
            ]
          },
          "metadata": {
            "tags": []
          },
          "execution_count": 19
        }
      ]
    },
    {
      "cell_type": "markdown",
      "metadata": {
        "id": "NA9u3snWSFOC"
      },
      "source": [
        "## Conclusion\n",
        " 5 functions to create tensors have been described with examples in this notebook.In the next notebook, the traning of a model will be explored."
      ]
    },
    {
      "cell_type": "markdown",
      "metadata": {
        "id": "yu9GAJpFSFOC"
      },
      "source": [
        "## Reference Links\n",
        "Provide links to your references and other interesting articles about tensors\n",
        "* Official documentation for tensor operations: https://pytorch.org/docs/stable/torch.html\n",
        "* https://towardsdatascience.com/introduction-to-py-torch-13189fb30cb3\n",
        "*w3schools.com/python/"
      ]
    },
    {
      "cell_type": "code",
      "metadata": {
        "colab": {
          "base_uri": "https://localhost:8080/",
          "height": 103
        },
        "id": "FVkWJqRHSFOC",
        "outputId": "aa1ebf2f-f29a-454b-bcac-ab424d548165"
      },
      "source": [
        "jovian.commit(project='5 Functions to Generate Tensors using Pytorch')"
      ],
      "execution_count": null,
      "outputs": [
        {
          "output_type": "stream",
          "text": [
            "[jovian] Detected Colab notebook...\u001b[0m\n",
            "[jovian] Uploading colab notebook to Jovian...\u001b[0m\n",
            "[jovian] Capturing environment..\u001b[0m\n",
            "[jovian] Committed successfully! https://jovian.ai/airavati97/5-functions-to-generate-tensors-using-pytorch\u001b[0m\n"
          ],
          "name": "stdout"
        },
        {
          "output_type": "execute_result",
          "data": {
            "application/vnd.google.colaboratory.intrinsic+json": {
              "type": "string"
            },
            "text/plain": [
              "'https://jovian.ai/airavati97/5-functions-to-generate-tensors-using-pytorch'"
            ]
          },
          "metadata": {
            "tags": []
          },
          "execution_count": 65
        }
      ]
    },
    {
      "cell_type": "markdown",
      "metadata": {
        "id": "uZXwpbhFuC7p"
      },
      "source": [
        "Saving work"
      ]
    },
    {
      "cell_type": "code",
      "metadata": {
        "colab": {
          "base_uri": "https://localhost:8080/"
        },
        "id": "S_5ZkLr41Chf",
        "outputId": "b476db80-30e9-4602-ed69-e9c76dcbe3f9"
      },
      "source": [
        "jovian.commit(project='5 Functions to Generate Tensors using Pytorch')\r\n",
        "jovian.commit(project='my-project')\r\n",
        "jovian.submit(assignment=\"5 Functions to Generate Tensors using Pytorch\")"
      ],
      "execution_count": 68,
      "outputs": [
        {
          "output_type": "stream",
          "text": [
            "[jovian] Detected Colab notebook...\u001b[0m\n",
            "[jovian] Uploading colab notebook to Jovian...\u001b[0m\n",
            "[jovian] Capturing environment..\u001b[0m\n",
            "[jovian] Committed successfully! https://jovian.ai/airavati97/5-functions-to-generate-tensors-using-pytorch\u001b[0m\n",
            "[jovian] Detected Colab notebook...\u001b[0m\n",
            "[jovian] Uploading colab notebook to Jovian...\u001b[0m\n",
            "[jovian] Capturing environment..\u001b[0m\n",
            "[jovian] Committed successfully! https://jovian.ai/airavati97/my-project\u001b[0m\n",
            "[jovian] Detected Colab notebook...\u001b[0m\n"
          ],
          "name": "stdout"
        },
        {
          "output_type": "stream",
          "text": [
            "\u001b[31m[jovian] Error: Please provide the project argument e.g. jovian.commit(project='my-project')\u001b[0m\n"
          ],
          "name": "stderr"
        }
      ]
    },
    {
      "cell_type": "markdown",
      "metadata": {
        "id": "MqbrsaVduEcP"
      },
      "source": [
        ""
      ]
    },
    {
      "cell_type": "code",
      "metadata": {
        "colab": {
          "base_uri": "https://localhost:8080/"
        },
        "id": "obv_gnlo1yOJ",
        "outputId": "666aeb51-8892-468c-d60f-19a1ea11dc14"
      },
      "source": [
        "jovian.commit(assignment=\"5 Functions to Generate Tensors using Pytorch\")\r\n"
      ],
      "execution_count": 70,
      "outputs": [
        {
          "output_type": "stream",
          "text": [
            "[jovian] Detected Colab notebook...\u001b[0m\n"
          ],
          "name": "stdout"
        },
        {
          "output_type": "stream",
          "text": [
            "\u001b[31m[jovian] Error: Please provide the project argument e.g. jovian.commit(project='my-project')\u001b[0m\n"
          ],
          "name": "stderr"
        }
      ]
    },
    {
      "cell_type": "code",
      "metadata": {
        "id": "MyyzibHBSFOD"
      },
      "source": [
        ""
      ],
      "execution_count": null,
      "outputs": []
    }
  ]
}